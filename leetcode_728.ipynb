{
 "cells": [
  {
   "cell_type": "code",
   "execution_count": null,
   "metadata": {},
   "outputs": [],
   "source": [
    "class Solution:\n",
    "    def selfDividingNumbers(self, left, right):\n",
    "        \n",
    "        mylist=[]\n",
    "        z=[i for i in range(left, right+1) if not \"0\" in str(i)]\n",
    "        for a in z:\n",
    "            count=0\n",
    "            for k in str(a):\n",
    "                if a % int(k)==0:\n",
    "                    count+=1\n",
    "    \n",
    "            if count==len (str(a)):\n",
    "                mylist.append(int(a))\n",
    "        return mylist\n"
   ]
  }
 ],
 "metadata": {
  "kernelspec": {
   "display_name": "Python 3",
   "language": "python",
   "name": "python3"
  },
  "language_info": {
   "codemirror_mode": {
    "name": "ipython",
    "version": 3
   },
   "file_extension": ".py",
   "mimetype": "text/x-python",
   "name": "python",
   "nbconvert_exporter": "python",
   "pygments_lexer": "ipython3",
   "version": "3.6.5"
  }
 },
 "nbformat": 4,
 "nbformat_minor": 2
}
