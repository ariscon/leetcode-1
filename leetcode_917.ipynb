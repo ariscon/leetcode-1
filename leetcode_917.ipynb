{
 "cells": [
  {
   "cell_type": "code",
   "execution_count": null,
   "metadata": {},
   "outputs": [],
   "source": [
    "class Solution:\n",
    "    def reverseOnlyLetters(self, S):\n",
    "        \n",
    "        import string\n",
    "\n",
    "        S=list(S)\n",
    "        let=[]\n",
    "        ind=[]\n",
    "        for i,k in enumerate(S):\n",
    "            if k in string.ascii_letters:\n",
    "                let.append(k)\n",
    "                ind.append(i)\n",
    "        for index, letter in zip(ind,reversed(let)):\n",
    "            S[index]=letter\n",
    "        return \"\".join(S)"
   ]
  }
 ],
 "metadata": {
  "kernelspec": {
   "display_name": "Python 3",
   "language": "python",
   "name": "python3"
  },
  "language_info": {
   "codemirror_mode": {
    "name": "ipython",
    "version": 3
   },
   "file_extension": ".py",
   "mimetype": "text/x-python",
   "name": "python",
   "nbconvert_exporter": "python",
   "pygments_lexer": "ipython3",
   "version": "3.6.5"
  }
 },
 "nbformat": 4,
 "nbformat_minor": 2
}
