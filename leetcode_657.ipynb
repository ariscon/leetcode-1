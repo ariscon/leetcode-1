{
 "cells": [
  {
   "cell_type": "code",
   "execution_count": null,
   "metadata": {},
   "outputs": [],
   "source": [
    "class Solution:\n",
    "    def judgeCircle(self, moves):\n",
    "       \n",
    "        ver=0\n",
    "        yat=0\n",
    "        for i in moves:\n",
    "    \n",
    "            if i == \"U\":\n",
    "                ver+=1\n",
    "            elif i==\"D\":\n",
    "                ver-=1\n",
    "            elif i==\"R\":\n",
    "                yat+=1\n",
    "            elif i==\"L\":\n",
    "                yat-=1\n",
    "        if ver==0 and yat==0:\n",
    "            return True\n",
    "        else:\n",
    "            return False"
   ]
  }
 ],
 "metadata": {
  "kernelspec": {
   "display_name": "Python 3",
   "language": "python",
   "name": "python3"
  },
  "language_info": {
   "codemirror_mode": {
    "name": "ipython",
    "version": 3
   },
   "file_extension": ".py",
   "mimetype": "text/x-python",
   "name": "python",
   "nbconvert_exporter": "python",
   "pygments_lexer": "ipython3",
   "version": "3.6.5"
  }
 },
 "nbformat": 4,
 "nbformat_minor": 2
}
