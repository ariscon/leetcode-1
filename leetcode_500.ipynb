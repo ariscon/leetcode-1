{
 "cells": [
  {
   "cell_type": "code",
   "execution_count": null,
   "metadata": {},
   "outputs": [],
   "source": [
    "class Solution:\n",
    "    def findWords(self, words):\n",
    "        \n",
    "        a=set('qwertyuiop')\n",
    "        b=set('asdfghjkl')\n",
    "        c=set('zxcvbnm')\n",
    "        my_list=[]\n",
    "        for i in words:\n",
    "            d=set(i.lower())\n",
    "        \n",
    "            if d.issubset(a) or d.issubset(b) or d.issubset(c):\n",
    "                my_list.append(str(i))\n",
    "        return my_list"
   ]
  }
 ],
 "metadata": {
  "kernelspec": {
   "display_name": "Python 3",
   "language": "python",
   "name": "python3"
  },
  "language_info": {
   "codemirror_mode": {
    "name": "ipython",
    "version": 3
   },
   "file_extension": ".py",
   "mimetype": "text/x-python",
   "name": "python",
   "nbconvert_exporter": "python",
   "pygments_lexer": "ipython3",
   "version": "3.6.5"
  }
 },
 "nbformat": 4,
 "nbformat_minor": 2
}
