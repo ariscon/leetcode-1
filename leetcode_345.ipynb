{
 "cells": [
  {
   "cell_type": "code",
   "execution_count": null,
   "metadata": {},
   "outputs": [],
   "source": [
    "class Solution:\n",
    "    def reverseVowels(self, s):\n",
    "        \n",
    "        \n",
    "        s = list(s)\n",
    "        vowels = [\"a\",\"e\",\"i\",\"o\",\"u\",\"A\",\"E\",\"I\",\"U\",\"O\"]\n",
    "        ind = []\n",
    "        let = []\n",
    "\n",
    "        for index, letter in enumerate(s):\n",
    "            if letter in vowels:\n",
    "                let.append(letter)\n",
    "                ind.append(index)\n",
    "\n",
    "        for i, x in zip(ind, reversed(let)):\n",
    "            s[i] = x\n",
    "\n",
    "        return ''.join(s)"
   ]
  }
 ],
 "metadata": {
  "kernelspec": {
   "display_name": "Python 3",
   "language": "python",
   "name": "python3"
  },
  "language_info": {
   "codemirror_mode": {
    "name": "ipython",
    "version": 3
   },
   "file_extension": ".py",
   "mimetype": "text/x-python",
   "name": "python",
   "nbconvert_exporter": "python",
   "pygments_lexer": "ipython3",
   "version": "3.6.5"
  }
 },
 "nbformat": 4,
 "nbformat_minor": 2
}
